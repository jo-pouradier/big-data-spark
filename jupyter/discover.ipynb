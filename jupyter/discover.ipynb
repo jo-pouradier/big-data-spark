{
 "cells": [
  {
   "cell_type": "code",
   "execution_count": 1,
   "id": "6602f17f-7695-42f1-92a8-86d9927d5329",
   "metadata": {},
   "outputs": [
    {
     "name": "stdout",
     "output_type": "stream",
     "text": [
      "test\n"
     ]
    }
   ],
   "source": [
    "print('test')"
   ]
  },
  {
   "cell_type": "code",
   "execution_count": 2,
   "id": "8fb9da31-4048-4d1d-8350-b0860c28eaeb",
   "metadata": {},
   "outputs": [],
   "source": [
    "from pyspark.sql import SparkSession\n",
    "spark = SparkSession.builder.getOrCreate()"
   ]
  },
  {
   "cell_type": "code",
   "execution_count": null,
   "id": "686bbeb0-6eb2-4bf7-9798-2a92d3d6b3b4",
   "metadata": {},
   "outputs": [
    {
     "name": "stdout",
     "output_type": "stream",
     "text": [
      "root\n",
      " |-- Name: string (nullable = true)\n",
      " |-- Age: long (nullable = true)\n",
      " |-- City: string (nullable = true)\n",
      "\n",
      "+-----+---+-------------+\n",
      "| Name|Age|         City|\n",
      "+-----+---+-------------+\n",
      "|Alice| 30|     New York|\n",
      "|  Bob| 28|San Francisco|\n",
      "+-----+---+-------------+\n",
      "only showing top 2 rows\n",
      "\n",
      "-RECORD 0-------------\n",
      " Name | Alice         \n",
      " Age  | 30            \n",
      " City | New York      \n",
      "-RECORD 1-------------\n",
      " Name | Bob           \n",
      " Age  | 28            \n",
      " City | San Francisco \n",
      "-RECORD 2-------------\n",
      " Name | Charlie       \n",
      " Age  | 34            \n",
      " City | Los Angeles   \n",
      "-RECORD 3-------------\n",
      " Name | Diana         \n",
      " Age  | 29            \n",
      " City | Chicago       \n",
      "\n"
     ]
    }
   ],
   "source": [
    "data = [\n",
    "    (\"Alice\", 30, \"New York\"),\n",
    "    (\"Bob\", 28, \"San Francisco\"),\n",
    "    (\"Charlie\", 34, \"Los Angeles\"),\n",
    "    (\"Diana\", 29, \"Chicago\")\n",
    "]\n",
    "\n",
    "columns = [\"Name\", \"Age\", \"City\"]\n",
    "df = spark.createDataFrame(data, columns)\n",
    "\n",
    "df.printSchema()\n",
    "df.show(2) # show first 2 rows\n",
    "# df.show(truncate=False, vertical=True)"
   ]
  },
  {
   "cell_type": "code",
   "execution_count": null,
   "id": "c139470a-74fe-40f0-99d5-b666aa6542c7",
   "metadata": {},
   "outputs": [],
   "source": []
  }
 ],
 "metadata": {
  "kernelspec": {
   "display_name": "Python 3 (ipykernel)",
   "language": "python",
   "name": "python3"
  },
  "language_info": {
   "codemirror_mode": {
    "name": "ipython",
    "version": 3
   },
   "file_extension": ".py",
   "mimetype": "text/x-python",
   "name": "python",
   "nbconvert_exporter": "python",
   "pygments_lexer": "ipython3",
   "version": "3.11.6"
  }
 },
 "nbformat": 4,
 "nbformat_minor": 5
}
